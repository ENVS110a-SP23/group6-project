{
 "cells": [
  {
   "cell_type": "code",
   "execution_count": 2,
   "metadata": {},
   "outputs": [
    {
     "name": "stdout",
     "output_type": "stream",
     "text": [
      "              Date and Time  Water Temp\n",
      "0  2023-01-28T23:00:00-0800     44.3120\n",
      "1  2023-01-29T00:00:00-0800     44.2796\n",
      "2  2023-01-29T01:00:00-0800     44.1428\n",
      "3  2023-01-29T02:00:00-0800     44.1626\n",
      "4  2023-01-29T03:00:00-0800     44.1968\n",
      "\n",
      "   Year_UTC  Month_UTC  Day_UTC  Latitude  Longitude  pH_T_measured  pH_flag\n",
      "0      2021          6       25    51.458   -130.846         7.3043        2\n",
      "1      2021          6       25    51.458   -130.846      -999.0000        9\n",
      "2      2021          6       25    51.458   -130.846         7.2856        6\n",
      "3      2021          6       25    51.457   -130.846         7.2701        2\n",
      "4      2021          6       25    51.457   -130.846         7.0830        4\n",
      "\n",
      "              Date and Time    pH\n",
      "0  2023-01-28T23:00:00-0800  7.68\n",
      "1  2023-01-28T23:00:00-0800  7.75\n",
      "2  2023-01-28T23:15:00-0800  7.68\n",
      "3  2023-01-28T23:15:00-0800  7.80\n",
      "4  2023-01-28T23:30:00-0800  7.69\n",
      "\n",
      "              Date and Time  Water Temp\n",
      "0  2023-01-28T23:00:00-0800     47.5358\n",
      "1  2023-01-28T23:00:00-0800     47.1002\n",
      "2  2023-01-28T23:15:00-0800     47.5322\n",
      "3  2023-01-28T23:15:00-0800     46.1066\n",
      "4  2023-01-28T23:30:00-0800     47.5304\n"
     ]
    }
   ],
   "source": [
    "import pandas as pd\n",
    "\n",
    "data_dir = \"/Users/coopg/Github/group6-project/\"\n",
    "\n",
    "csv = data_dir + \"Hakai KC Buoy (Water Temperature).csv\"\n",
    "df_Hakai = pd.read_csv(csv)\n",
    "print(df_Hakai.head())\n",
    "print()\n",
    "\n",
    "csv = data_dir + \"Queen Charlotte Sound (pH).csv\"\n",
    "df_QCS = pd.read_csv(csv)\n",
    "print(df_QCS.head())\n",
    "print()\n",
    "\n",
    "csv = data_dir + \"Seattle Aquarium (pH).csv\"\n",
    "df_SA_pH = pd.read_csv(csv)\n",
    "print(df_SA_pH.head())\n",
    "print()\n",
    "\n",
    "csv = data_dir + \"Seattle Aquarium (Water Temperature).csv\"\n",
    "df_SA_WT = pd.read_csv(csv)\n",
    "print(df_SA_WT.head())\n"
   ]
  },
  {
   "cell_type": "code",
   "execution_count": 3,
   "metadata": {},
   "outputs": [
    {
     "name": "stdout",
     "output_type": "stream",
     "text": [
      "43.502499378881915 Hakai Water Temp Mean\n",
      "\n",
      "7.586909200240544 Queen Charlotte Sound pH Mean\n",
      "\n",
      "46.68276096275516 Seattle Aquarium Water Temp Mean\n",
      "\n",
      "7.756511875221613 Seattle Aquarium pH Mean\n"
     ]
    }
   ],
   "source": [
    "Hakai_Water_Temp_Mean = df_Hakai[\"Water Temp\"].mean()\n",
    "print(Hakai_Water_Temp_Mean,\"Hakai Water Temp Mean\\n\")\n",
    "\n",
    "df_QCS_Cleaned = df_QCS.loc[df_QCS[\"pH_T_measured\"]>0,:]\n",
    "QCS_pH_Mean = df_QCS_Cleaned[\"pH_T_measured\"].mean()\n",
    "print(QCS_pH_Mean,\"Queen Charlotte Sound pH Mean\\n\")\n",
    "\n",
    "df_SA_WT_Cleaned = df_SA_WT.loc[df_SA_WT[\"Water Temp\"]<=100,:]\n",
    "Seattle_Aquarium_Water_Temp_Mean = df_SA_WT_Cleaned[\"Water Temp\"].mean()\n",
    "print(Seattle_Aquarium_Water_Temp_Mean,\"Seattle Aquarium Water Temp Mean\\n\")\n",
    "\n",
    "df_SA_pH_Cleaned = df_SA_pH.loc[df_SA_pH[\"pH\"]<=10,:]\n",
    "Seattle_Aquarium_pH_Mean = df_SA_pH_Cleaned[\"pH\"].mean()\n",
    "print(Seattle_Aquarium_pH_Mean,\"Seattle Aquarium pH Mean\")\n"
   ]
  },
  {
   "cell_type": "code",
   "execution_count": 4,
   "metadata": {},
   "outputs": [
    {
     "name": "stdout",
     "output_type": "stream",
     "text": [
      "1.2007835151611481 Hakai Water Temp Standard Deviation\n",
      "\n",
      "0.22483778592907822 Queen Charlotte Sound pH Standard Deviation\n",
      "\n",
      "0.557652309762224 Seattle Aquarium Water Standard Deviation\n",
      "\n",
      "0.055722838933037304 Seattle Aquarium pH Standard Deviation\n"
     ]
    }
   ],
   "source": [
    "Hakai_Water_Temp_Std = df_Hakai[\"Water Temp\"].std()\n",
    "print(Hakai_Water_Temp_Std,\"Hakai Water Temp Standard Deviation\\n\")\n",
    "\n",
    "QCS_pH_Std = df_QCS_Cleaned[\"pH_T_measured\"].std()\n",
    "print(QCS_pH_Std,\"Queen Charlotte Sound pH Standard Deviation\\n\")\n",
    "\n",
    "Seattle_Aquarium_Water_Temp_Std = df_SA_WT_Cleaned[\"Water Temp\"].std()\n",
    "print(Seattle_Aquarium_Water_Temp_Std,\"Seattle Aquarium Water Standard Deviation\\n\")\n",
    "\n",
    "Seattle_Aquarium_pH_Std = df_SA_pH_Cleaned[\"pH\"].std()\n",
    "print(Seattle_Aquarium_pH_Std,\"Seattle Aquarium pH Standard Deviation\")\n",
    "\n"
   ]
  },
  {
   "cell_type": "code",
   "execution_count": 10,
   "metadata": {},
   "outputs": [
    {
     "name": "stdout",
     "output_type": "stream",
     "text": [
      "45.8798 Hakai Water Temp Standard Max\n",
      "40.658 Hakai Water Temp Standard Min\n",
      "\n",
      "8.3426 Queen Charlotte Sound pH Max\n",
      "7.083 Queen Charlotte Sound pH Min\n",
      "\n",
      "49.379 Seattle Aquarium Water Max\n",
      "43.169 Seattle Aquarium Water MIn\n",
      "\n",
      "7.88 Seattle Aquarium pH Max\n",
      "7.67 Seattle Aquarium pH Min\n"
     ]
    }
   ],
   "source": [
    "Hakai_Water_Temp_Max = df_Hakai[\"Water Temp\"].max()\n",
    "print(Hakai_Water_Temp_Max,\"Hakai Water Temp Standard Max\")\n",
    "Hakai_Water_Temp_Min = df_Hakai[\"Water Temp\"].min()\n",
    "print(Hakai_Water_Temp_Min,\"Hakai Water Temp Standard Min\\n\")\n",
    "\n",
    "QCS_pH_Max = df_QCS_Cleaned[\"pH_T_measured\"].max()\n",
    "print(QCS_pH_Max,\"Queen Charlotte Sound pH Max\")\n",
    "QCS_pH_Min = df_QCS_Cleaned[\"pH_T_measured\"].min()\n",
    "print(QCS_pH_Min,\"Queen Charlotte Sound pH Min\\n\")\n",
    "\n",
    "Seattle_Aquarium_Water_Temp_Max = df_SA_WT_Cleaned[\"Water Temp\"].max()\n",
    "print(Seattle_Aquarium_Water_Temp_Max,\"Seattle Aquarium Water Max\")\n",
    "Seattle_Aquarium_Water_Temp_Min = df_SA_WT_Cleaned[\"Water Temp\"].min()\n",
    "print(Seattle_Aquarium_Water_Temp_Min,\"Seattle Aquarium Water MIn\\n\")\n",
    "\n",
    "Seattle_Aquarium_pH_Max = df_SA_pH_Cleaned[\"pH\"].max()\n",
    "print(Seattle_Aquarium_pH_Max,\"Seattle Aquarium pH Max\")\n",
    "Seattle_Aquarium_pH_Min = df_SA_pH_Cleaned[\"pH\"].min()\n",
    "print(Seattle_Aquarium_pH_Min,\"Seattle Aquarium pH Min\")\n"
   ]
  }
 ],
 "metadata": {
  "kernelspec": {
   "display_name": "base",
   "language": "python",
   "name": "python3"
  },
  "language_info": {
   "codemirror_mode": {
    "name": "ipython",
    "version": 3
   },
   "file_extension": ".py",
   "mimetype": "text/x-python",
   "name": "python",
   "nbconvert_exporter": "python",
   "pygments_lexer": "ipython3",
   "version": "3.9.13"
  },
  "orig_nbformat": 4
 },
 "nbformat": 4,
 "nbformat_minor": 2
}
