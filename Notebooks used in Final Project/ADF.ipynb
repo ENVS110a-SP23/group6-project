{
 "cells": [
  {
   "cell_type": "code",
   "execution_count": 9,
   "metadata": {},
   "outputs": [],
   "source": [
    "import pandas as pd"
   ]
  },
  {
   "cell_type": "code",
   "execution_count": 10,
   "metadata": {},
   "outputs": [],
   "source": [
    "data_dir = \"/Users/coopg/Github/group6-project/data/\"\n",
    "\n",
    "csv = data_dir + \"Seattle Aquarium (pH).csv\"\n",
    "df_SA_pH = pd.read_csv(csv)\n",
    "df_SA_pH_Cleaned = df_SA_pH.loc[df_SA_pH[\"pH\"]<=10,:]\n",
    "\n",
    "\n",
    "csv = data_dir + \"Seattle Aquarium (Water Temperature).csv\"\n",
    "df_SA_WT = pd.read_csv(csv)\n",
    "df_SA_WT_Cleaned = df_SA_WT.loc[df_SA_WT[\"Water Temp\"]<=100,:]"
   ]
  },
  {
   "cell_type": "code",
   "execution_count": 11,
   "metadata": {},
   "outputs": [],
   "source": [
    "combined_Seattle_df = pd.merge(left=df_SA_pH_Cleaned, right=df_SA_WT_Cleaned, how='left', left_on='Date and Time', right_on='Date and Time')\n"
   ]
  },
  {
   "cell_type": "code",
   "execution_count": 12,
   "metadata": {},
   "outputs": [
    {
     "name": "stdout",
     "output_type": "stream",
     "text": [
      "ADF Statistic: -6.642096913618173\n",
      "p-value: 5.3778754459546114e-09\n"
     ]
    }
   ],
   "source": [
    "from statsmodels.tsa.stattools import adfuller\n",
    "def adf_print(time_series):\n",
    "    adf_output = adfuller(time_series)\n",
    "    stat = adf_output[0]\n",
    "    pval = adf_output[1]\n",
    "    print('ADF Statistic:', stat)\n",
    "    print('p-value:', pval)\n",
    "    return None\n",
    "\n",
    "adf_print(combined_Seattle_df[\"Water Temp\"])"
   ]
  },
  {
   "cell_type": "code",
   "execution_count": 13,
   "metadata": {},
   "outputs": [
    {
     "name": "stdout",
     "output_type": "stream",
     "text": [
      "ADF Statistic: -2.2337243135869045\n",
      "p-value: 0.19423389219237208\n"
     ]
    }
   ],
   "source": [
    "from statsmodels.tsa.stattools import adfuller\n",
    "def adf_print(time_series):\n",
    "    adf_output = adfuller(time_series)\n",
    "    stat = adf_output[0]\n",
    "    pval = adf_output[1]\n",
    "    print('ADF Statistic:', stat)\n",
    "    print('p-value:', pval)\n",
    "    return None\n",
    "\n",
    "adf_print(combined_Seattle_df[\"pH\"])"
   ]
  }
 ],
 "metadata": {
  "kernelspec": {
   "display_name": "base",
   "language": "python",
   "name": "python3"
  },
  "language_info": {
   "codemirror_mode": {
    "name": "ipython",
    "version": 3
   },
   "file_extension": ".py",
   "mimetype": "text/x-python",
   "name": "python",
   "nbconvert_exporter": "python",
   "pygments_lexer": "ipython3",
   "version": "3.9.13"
  },
  "orig_nbformat": 4
 },
 "nbformat": 4,
 "nbformat_minor": 2
}
